{
 "cells": [
  {
   "cell_type": "code",
   "execution_count": 1,
   "id": "initial_id",
   "metadata": {
    "collapsed": true,
    "ExecuteTime": {
     "end_time": "2024-01-11T16:06:06.049949443Z",
     "start_time": "2024-01-11T16:06:06.042870176Z"
    }
   },
   "outputs": [
    {
     "name": "stdout",
     "output_type": "stream",
     "text": [
      "env: SOFA_ROOT=/home/erik/sofa/build/install\n",
      "env: SOFAPYTHON3_ROOT=/home/erik/sofa/build/install/install/plugins/SofaPython3\n"
     ]
    }
   ],
   "source": [
    "%env SOFA_ROOT=/home/erik/sofa/build/install\n",
    "%env SOFAPYTHON3_ROOT=/home/erik/sofa/build/install/install/plugins/SofaPython3"
   ]
  },
  {
   "cell_type": "code",
   "execution_count": 2,
   "outputs": [
    {
     "name": "stdout",
     "output_type": "stream",
     "text": [
      "---------------------------------------\n",
      "Checking SOFA_ROOT and SOFAPYTHON3_ROOT\n",
      "Using environment variable SOFA_ROOT: /home/erik/sofa/build/install\n",
      "---------------------------------------\n"
     ]
    }
   ],
   "source": [
    "import numpy as np\n",
    "from imitation.algorithms import bc\n",
    "from imitation.data.types import Trajectory\n",
    "from imitation.data.wrappers import RolloutInfoWrapper\n",
    "from imitation.data.rollout import flatten_trajectories\n",
    "from sofa_env.base import RenderMode\n",
    "from sofa_env.scenes.ligating_loop.ligating_loop_env import LigatingLoopEnv, ObservationType, ActionType\n",
    "from gymnasium.wrappers import TimeLimit\n",
    "from stable_baselines3.common.evaluation import evaluate_policy\n",
    "from stable_baselines3.common.vec_env import DummyVecEnv"
   ],
   "metadata": {
    "collapsed": false,
    "ExecuteTime": {
     "end_time": "2024-01-11T16:06:08.220047786Z",
     "start_time": "2024-01-11T16:06:06.047564807Z"
    }
   },
   "id": "b2308a3b12218c03"
  },
  {
   "cell_type": "code",
   "execution_count": 3,
   "outputs": [],
   "source": [
    "def _make_env():\n",
    "    \"\"\"Helper function to create a single environment. Put any logic here, but make sure to return a RolloutInfoWrapper.\"\"\"\n",
    "    _env = LigatingLoopEnv(\n",
    "        observation_type=ObservationType.RGBD,\n",
    "        render_mode=RenderMode.HUMAN,\n",
    "        action_type=ActionType.CONTINUOUS,\n",
    "        image_shape=(256, 256),\n",
    "        frame_skip=1,\n",
    "        time_step=0.1,\n",
    "        settle_steps=50,\n",
    "    )\n",
    "    _env = TimeLimit(_env, max_episode_steps=500)\n",
    "    _env = RolloutInfoWrapper(_env)\n",
    "    return _env\n",
    "\n",
    "\n",
    "def _npz_to_traj(n_traj: 500):\n",
    "    ret = []\n",
    "    for i in range(n_traj):\n",
    "        path = f'/home/erik/sofa_env_demonstrations/ligating_loop/LigatingLoopEnv_{i}.npz'\n",
    "        npz_data = np.load(path)\n",
    "        print(np.append(npz_data['rgb'], npz_data['depth'][..., np.newaxis], 3).shape)\n",
    "        ret.append(Trajectory(np.append(npz_data['rgb'], npz_data['depth'][..., np.newaxis], 3),\n",
    "                              npz_data['action'], None, True))\n",
    "\n",
    "    return ret"
   ],
   "metadata": {
    "collapsed": false,
    "ExecuteTime": {
     "end_time": "2024-01-11T16:06:09.342360691Z",
     "start_time": "2024-01-11T16:06:09.319298802Z"
    }
   },
   "id": "bc7ad7a7dca8bd4e"
  },
  {
   "cell_type": "code",
   "execution_count": 4,
   "outputs": [
    {
     "ename": "AttributeError",
     "evalue": "'LigatingLoopEnv' object has no attribute 'observation_type'",
     "output_type": "error",
     "traceback": [
      "\u001B[0;31m---------------------------------------------------------------------------\u001B[0m",
      "\u001B[0;31mAttributeError\u001B[0m                            Traceback (most recent call last)",
      "Cell \u001B[0;32mIn[4], line 1\u001B[0m\n\u001B[0;32m----> 1\u001B[0m env \u001B[38;5;241m=\u001B[39m \u001B[43mDummyVecEnv\u001B[49m\u001B[43m(\u001B[49m\u001B[43m[\u001B[49m\u001B[43m_make_env\u001B[49m\u001B[43m \u001B[49m\u001B[38;5;28;43;01mfor\u001B[39;49;00m\u001B[43m \u001B[49m\u001B[43m_\u001B[49m\u001B[43m \u001B[49m\u001B[38;5;129;43;01min\u001B[39;49;00m\u001B[43m \u001B[49m\u001B[38;5;28;43mrange\u001B[39;49m\u001B[43m(\u001B[49m\u001B[38;5;241;43m1\u001B[39;49m\u001B[43m)\u001B[49m\u001B[43m]\u001B[49m\u001B[43m)\u001B[49m\n\u001B[1;32m      2\u001B[0m traj \u001B[38;5;241m=\u001B[39m _npz_to_traj(\u001B[38;5;241m1\u001B[39m)  \n",
      "File \u001B[0;32m~/miniconda3/envs/sofa/lib/python3.9/site-packages/stable_baselines3/common/vec_env/dummy_vec_env.py:30\u001B[0m, in \u001B[0;36mDummyVecEnv.__init__\u001B[0;34m(self, env_fns)\u001B[0m\n\u001B[1;32m     29\u001B[0m \u001B[38;5;28;01mdef\u001B[39;00m \u001B[38;5;21m__init__\u001B[39m(\u001B[38;5;28mself\u001B[39m, env_fns: List[Callable[[], gym\u001B[38;5;241m.\u001B[39mEnv]]):\n\u001B[0;32m---> 30\u001B[0m     \u001B[38;5;28mself\u001B[39m\u001B[38;5;241m.\u001B[39menvs \u001B[38;5;241m=\u001B[39m [_patch_env(fn()) \u001B[38;5;28;01mfor\u001B[39;00m fn \u001B[38;5;129;01min\u001B[39;00m env_fns]\n\u001B[1;32m     31\u001B[0m     \u001B[38;5;28;01mif\u001B[39;00m \u001B[38;5;28mlen\u001B[39m(\u001B[38;5;28mset\u001B[39m([\u001B[38;5;28mid\u001B[39m(env\u001B[38;5;241m.\u001B[39munwrapped) \u001B[38;5;28;01mfor\u001B[39;00m env \u001B[38;5;129;01min\u001B[39;00m \u001B[38;5;28mself\u001B[39m\u001B[38;5;241m.\u001B[39menvs])) \u001B[38;5;241m!=\u001B[39m \u001B[38;5;28mlen\u001B[39m(\u001B[38;5;28mself\u001B[39m\u001B[38;5;241m.\u001B[39menvs):\n\u001B[1;32m     32\u001B[0m         \u001B[38;5;28;01mraise\u001B[39;00m \u001B[38;5;167;01mValueError\u001B[39;00m(\n\u001B[1;32m     33\u001B[0m             \u001B[38;5;124m\"\u001B[39m\u001B[38;5;124mYou tried to create multiple environments, but the function to create them returned the same instance \u001B[39m\u001B[38;5;124m\"\u001B[39m\n\u001B[1;32m     34\u001B[0m             \u001B[38;5;124m\"\u001B[39m\u001B[38;5;124minstead of creating different objects. \u001B[39m\u001B[38;5;124m\"\u001B[39m\n\u001B[0;32m   (...)\u001B[0m\n\u001B[1;32m     39\u001B[0m             \u001B[38;5;124m\"\u001B[39m\u001B[38;5;124mPlease read https://github.com/DLR-RM/stable-baselines3/issues/1151 for more information.\u001B[39m\u001B[38;5;124m\"\u001B[39m\n\u001B[1;32m     40\u001B[0m         )\n",
      "File \u001B[0;32m~/miniconda3/envs/sofa/lib/python3.9/site-packages/stable_baselines3/common/vec_env/dummy_vec_env.py:30\u001B[0m, in \u001B[0;36m<listcomp>\u001B[0;34m(.0)\u001B[0m\n\u001B[1;32m     29\u001B[0m \u001B[38;5;28;01mdef\u001B[39;00m \u001B[38;5;21m__init__\u001B[39m(\u001B[38;5;28mself\u001B[39m, env_fns: List[Callable[[], gym\u001B[38;5;241m.\u001B[39mEnv]]):\n\u001B[0;32m---> 30\u001B[0m     \u001B[38;5;28mself\u001B[39m\u001B[38;5;241m.\u001B[39menvs \u001B[38;5;241m=\u001B[39m [_patch_env(\u001B[43mfn\u001B[49m\u001B[43m(\u001B[49m\u001B[43m)\u001B[49m) \u001B[38;5;28;01mfor\u001B[39;00m fn \u001B[38;5;129;01min\u001B[39;00m env_fns]\n\u001B[1;32m     31\u001B[0m     \u001B[38;5;28;01mif\u001B[39;00m \u001B[38;5;28mlen\u001B[39m(\u001B[38;5;28mset\u001B[39m([\u001B[38;5;28mid\u001B[39m(env\u001B[38;5;241m.\u001B[39munwrapped) \u001B[38;5;28;01mfor\u001B[39;00m env \u001B[38;5;129;01min\u001B[39;00m \u001B[38;5;28mself\u001B[39m\u001B[38;5;241m.\u001B[39menvs])) \u001B[38;5;241m!=\u001B[39m \u001B[38;5;28mlen\u001B[39m(\u001B[38;5;28mself\u001B[39m\u001B[38;5;241m.\u001B[39menvs):\n\u001B[1;32m     32\u001B[0m         \u001B[38;5;28;01mraise\u001B[39;00m \u001B[38;5;167;01mValueError\u001B[39;00m(\n\u001B[1;32m     33\u001B[0m             \u001B[38;5;124m\"\u001B[39m\u001B[38;5;124mYou tried to create multiple environments, but the function to create them returned the same instance \u001B[39m\u001B[38;5;124m\"\u001B[39m\n\u001B[1;32m     34\u001B[0m             \u001B[38;5;124m\"\u001B[39m\u001B[38;5;124minstead of creating different objects. \u001B[39m\u001B[38;5;124m\"\u001B[39m\n\u001B[0;32m   (...)\u001B[0m\n\u001B[1;32m     39\u001B[0m             \u001B[38;5;124m\"\u001B[39m\u001B[38;5;124mPlease read https://github.com/DLR-RM/stable-baselines3/issues/1151 for more information.\u001B[39m\u001B[38;5;124m\"\u001B[39m\n\u001B[1;32m     40\u001B[0m         )\n",
      "Cell \u001B[0;32mIn[3], line 3\u001B[0m, in \u001B[0;36m_make_env\u001B[0;34m()\u001B[0m\n\u001B[1;32m      1\u001B[0m \u001B[38;5;28;01mdef\u001B[39;00m \u001B[38;5;21m_make_env\u001B[39m():\n\u001B[1;32m      2\u001B[0m \u001B[38;5;250m    \u001B[39m\u001B[38;5;124;03m\"\"\"Helper function to create a single environment. Put any logic here, but make sure to return a RolloutInfoWrapper.\"\"\"\u001B[39;00m\n\u001B[0;32m----> 3\u001B[0m     _env \u001B[38;5;241m=\u001B[39m \u001B[43mLigatingLoopEnv\u001B[49m\u001B[43m(\u001B[49m\n\u001B[1;32m      4\u001B[0m \u001B[43m        \u001B[49m\u001B[43mobservation_type\u001B[49m\u001B[38;5;241;43m=\u001B[39;49m\u001B[43mObservationType\u001B[49m\u001B[38;5;241;43m.\u001B[39;49m\u001B[43mRGBD\u001B[49m\u001B[43m,\u001B[49m\n\u001B[1;32m      5\u001B[0m \u001B[43m        \u001B[49m\u001B[43mrender_mode\u001B[49m\u001B[38;5;241;43m=\u001B[39;49m\u001B[43mRenderMode\u001B[49m\u001B[38;5;241;43m.\u001B[39;49m\u001B[43mHUMAN\u001B[49m\u001B[43m,\u001B[49m\n\u001B[1;32m      6\u001B[0m \u001B[43m        \u001B[49m\u001B[43maction_type\u001B[49m\u001B[38;5;241;43m=\u001B[39;49m\u001B[43mActionType\u001B[49m\u001B[38;5;241;43m.\u001B[39;49m\u001B[43mCONTINUOUS\u001B[49m\u001B[43m,\u001B[49m\n\u001B[1;32m      7\u001B[0m \u001B[43m        \u001B[49m\u001B[43mimage_shape\u001B[49m\u001B[38;5;241;43m=\u001B[39;49m\u001B[43m(\u001B[49m\u001B[38;5;241;43m256\u001B[39;49m\u001B[43m,\u001B[49m\u001B[43m \u001B[49m\u001B[38;5;241;43m256\u001B[39;49m\u001B[43m)\u001B[49m\u001B[43m,\u001B[49m\n\u001B[1;32m      8\u001B[0m \u001B[43m        \u001B[49m\u001B[43mframe_skip\u001B[49m\u001B[38;5;241;43m=\u001B[39;49m\u001B[38;5;241;43m1\u001B[39;49m\u001B[43m,\u001B[49m\n\u001B[1;32m      9\u001B[0m \u001B[43m        \u001B[49m\u001B[43mtime_step\u001B[49m\u001B[38;5;241;43m=\u001B[39;49m\u001B[38;5;241;43m0.1\u001B[39;49m\u001B[43m,\u001B[49m\n\u001B[1;32m     10\u001B[0m \u001B[43m        \u001B[49m\u001B[43msettle_steps\u001B[49m\u001B[38;5;241;43m=\u001B[39;49m\u001B[38;5;241;43m50\u001B[39;49m\u001B[43m,\u001B[49m\n\u001B[1;32m     11\u001B[0m \u001B[43m    \u001B[49m\u001B[43m)\u001B[49m\n\u001B[1;32m     12\u001B[0m     _env \u001B[38;5;241m=\u001B[39m TimeLimit(_env, max_episode_steps\u001B[38;5;241m=\u001B[39m\u001B[38;5;241m500\u001B[39m)\n\u001B[1;32m     13\u001B[0m     _env \u001B[38;5;241m=\u001B[39m RolloutInfoWrapper(_env)\n",
      "File \u001B[0;32m~/sofa_env/sofa_env/scenes/ligating_loop/ligating_loop_env.py:308\u001B[0m, in \u001B[0;36mLigatingLoopEnv.__init__\u001B[0;34m(self, scene_path, image_shape, observation_type, action_type, time_step, frame_skip, settle_steps, render_mode, render_framework, reward_amount_dict, maximum_state_velocity, discrete_action_magnitude, create_scene_kwargs, on_reset_callbacks, num_tracking_points_cavity, num_tracking_points_marking, num_tracking_points_loop, target_loop_closed_ratio, target_loop_overlap_ratio, randomize_marking_position, with_gripper, individual_agents, band_width, disable_in_cavity_checks, randomize_loop_state, loop_ptsd_reset_noise, loop_closure_reset_interval)\u001B[0m\n\u001B[1;32m    305\u001B[0m     \u001B[38;5;28mself\u001B[39m\u001B[38;5;241m.\u001B[39mobservation_space \u001B[38;5;241m=\u001B[39m spaces\u001B[38;5;241m.\u001B[39mBox(low\u001B[38;5;241m=\u001B[39m\u001B[38;5;241m0\u001B[39m, high\u001B[38;5;241m=\u001B[39m\u001B[38;5;241m255\u001B[39m, shape\u001B[38;5;241m=\u001B[39mimage_shape \u001B[38;5;241m+\u001B[39m (\u001B[38;5;241m3\u001B[39m,), dtype\u001B[38;5;241m=\u001B[39mnp\u001B[38;5;241m.\u001B[39muint8)\n\u001B[1;32m    307\u001B[0m \u001B[38;5;66;03m# Color image and depth map\u001B[39;00m\n\u001B[0;32m--> 308\u001B[0m \u001B[38;5;28;01melif\u001B[39;00m \u001B[38;5;28;43mself\u001B[39;49m\u001B[38;5;241;43m.\u001B[39;49m\u001B[43mobservation_type\u001B[49m \u001B[38;5;241m==\u001B[39m ObservationType\u001B[38;5;241m.\u001B[39mRGBD:\n\u001B[1;32m    309\u001B[0m     \u001B[38;5;28mself\u001B[39m\u001B[38;5;241m.\u001B[39mobservation_space \u001B[38;5;241m=\u001B[39m spaces\u001B[38;5;241m.\u001B[39mBox(low\u001B[38;5;241m=\u001B[39m\u001B[38;5;241m0\u001B[39m, high\u001B[38;5;241m=\u001B[39m\u001B[38;5;241m255\u001B[39m, shape\u001B[38;5;241m=\u001B[39mimage_shape \u001B[38;5;241m+\u001B[39m (\u001B[38;5;241m4\u001B[39m,), dtype\u001B[38;5;241m=\u001B[39mnp\u001B[38;5;241m.\u001B[39muint8)\n\u001B[1;32m    311\u001B[0m \u001B[38;5;28;01melse\u001B[39;00m:\n",
      "\u001B[0;31mAttributeError\u001B[0m: 'LigatingLoopEnv' object has no attribute 'observation_type'"
     ]
    }
   ],
   "source": [
    "env = DummyVecEnv([_make_env for _ in range(1)])\n",
    "traj = _npz_to_traj(1)  "
   ],
   "metadata": {
    "collapsed": false,
    "ExecuteTime": {
     "end_time": "2024-01-11T16:06:12.303059827Z",
     "start_time": "2024-01-11T16:06:12.036260381Z"
    }
   },
   "id": "fd61d471862228dc"
  },
  {
   "cell_type": "code",
   "outputs": [
    {
     "name": "stdout",
     "output_type": "stream",
     "text": [
      "(495, 5) (495, 256, 256, 4)\n"
     ]
    }
   ],
   "source": [
    "from stable_baselines3.common.policies import ActorCriticPolicy\n",
    "\n",
    "transitions = flatten_trajectories(traj)\n",
    "print(transitions.acts.shape, transitions.obs.shape)\n",
    "rng = np.random.default_rng()\n",
    "policy = ActorCriticPolicy(env.observation_space, env.action_space, lambda epoch: 1e-3 * 0.99 ** epoch )\n",
    "\n"
   ],
   "metadata": {
    "collapsed": false,
    "ExecuteTime": {
     "end_time": "2024-01-11T15:10:01.486411604Z",
     "start_time": "2024-01-11T15:10:00.313829412Z"
    }
   },
   "id": "9ff2b18550cce1f2",
   "execution_count": 5
  },
  {
   "cell_type": "code",
   "execution_count": 6,
   "outputs": [],
   "source": [
    "bc_trainer = bc.BC(\n",
    "    observation_space=env.observation_space,\n",
    "    action_space=env.action_space,\n",
    "    demonstrations=transitions,\n",
    "    policy=policy,\n",
    "    rng=rng,\n",
    "    device='cuda'\n",
    ")"
   ],
   "metadata": {
    "collapsed": false,
    "ExecuteTime": {
     "end_time": "2024-01-11T15:10:01.669663695Z",
     "start_time": "2024-01-11T15:10:01.488340017Z"
    }
   },
   "id": "8a09f356597af300"
  },
  {
   "cell_type": "code",
   "execution_count": 7,
   "outputs": [],
   "source": [
    "#reward_before_training, _ = evaluate_policy(bc_trainer.policy, env, 10)\n",
    "#print(f\"Reward before training: {reward_before_training}\")"
   ],
   "metadata": {
    "collapsed": false,
    "ExecuteTime": {
     "end_time": "2024-01-11T15:10:01.674560036Z",
     "start_time": "2024-01-11T15:10:01.670273492Z"
    }
   },
   "id": "8aaf8ad1c2537e38"
  },
  {
   "cell_type": "code",
   "execution_count": 8,
   "outputs": [
    {
     "name": "stderr",
     "output_type": "stream",
     "text": [
      "0batch [00:00, ?batch/s]\n"
     ]
    },
    {
     "name": "stdout",
     "output_type": "stream",
     "text": [
      "<class 'torch.Tensor'> cpu\n"
     ]
    },
    {
     "ename": "RuntimeError",
     "evalue": "Expected all tensors to be on the same device, but found at least two devices, cuda:0 and cpu!",
     "output_type": "error",
     "traceback": [
      "\u001B[0;31m---------------------------------------------------------------------------\u001B[0m",
      "\u001B[0;31mRuntimeError\u001B[0m                              Traceback (most recent call last)",
      "Cell \u001B[0;32mIn[8], line 1\u001B[0m\n\u001B[0;32m----> 1\u001B[0m \u001B[43mbc_trainer\u001B[49m\u001B[38;5;241;43m.\u001B[39;49m\u001B[43mtrain\u001B[49m\u001B[43m(\u001B[49m\u001B[43mn_epochs\u001B[49m\u001B[38;5;241;43m=\u001B[39;49m\u001B[38;5;241;43m1\u001B[39;49m\u001B[43m)\u001B[49m\n",
      "File \u001B[0;32m~/miniconda3/envs/sofa/lib/python3.9/site-packages/imitation/algorithms/bc.py:496\u001B[0m, in \u001B[0;36mBC.train\u001B[0;34m(self, n_epochs, n_batches, on_epoch_end, on_batch_end, log_interval, log_rollouts_venv, log_rollouts_n_episodes, progress_bar, reset_tensorboard)\u001B[0m\n\u001B[1;32m    491\u001B[0m obs_tensor \u001B[38;5;241m=\u001B[39m types\u001B[38;5;241m.\u001B[39mmap_maybe_dict(\n\u001B[1;32m    492\u001B[0m     \u001B[38;5;28;01mlambda\u001B[39;00m x: util\u001B[38;5;241m.\u001B[39msafe_to_tensor(x, device\u001B[38;5;241m=\u001B[39m\u001B[38;5;28mself\u001B[39m\u001B[38;5;241m.\u001B[39mpolicy\u001B[38;5;241m.\u001B[39mdevice),\n\u001B[1;32m    493\u001B[0m     types\u001B[38;5;241m.\u001B[39mmaybe_unwrap_dictobs(batch[\u001B[38;5;124m\"\u001B[39m\u001B[38;5;124mobs\u001B[39m\u001B[38;5;124m\"\u001B[39m]),\n\u001B[1;32m    494\u001B[0m )\n\u001B[1;32m    495\u001B[0m acts \u001B[38;5;241m=\u001B[39m util\u001B[38;5;241m.\u001B[39msafe_to_tensor(batch[\u001B[38;5;124m\"\u001B[39m\u001B[38;5;124macts\u001B[39m\u001B[38;5;124m\"\u001B[39m], device\u001B[38;5;241m=\u001B[39m\u001B[38;5;28mself\u001B[39m\u001B[38;5;241m.\u001B[39mpolicy\u001B[38;5;241m.\u001B[39mdevice)\n\u001B[0;32m--> 496\u001B[0m training_metrics \u001B[38;5;241m=\u001B[39m \u001B[38;5;28;43mself\u001B[39;49m\u001B[38;5;241;43m.\u001B[39;49m\u001B[43mloss_calculator\u001B[49m\u001B[43m(\u001B[49m\u001B[38;5;28;43mself\u001B[39;49m\u001B[38;5;241;43m.\u001B[39;49m\u001B[43mpolicy\u001B[49m\u001B[43m,\u001B[49m\u001B[43m \u001B[49m\u001B[43mobs_tensor\u001B[49m\u001B[43m,\u001B[49m\u001B[43m \u001B[49m\u001B[43macts\u001B[49m\u001B[43m)\u001B[49m\n\u001B[1;32m    498\u001B[0m \u001B[38;5;66;03m# Renormalise the loss to be averaged over the whole\u001B[39;00m\n\u001B[1;32m    499\u001B[0m \u001B[38;5;66;03m# batch size instead of the minibatch size.\u001B[39;00m\n\u001B[1;32m    500\u001B[0m \u001B[38;5;66;03m# If there is an incomplete batch, its gradients will be\u001B[39;00m\n\u001B[1;32m    501\u001B[0m \u001B[38;5;66;03m# smaller, which may be helpful for stability.\u001B[39;00m\n\u001B[1;32m    502\u001B[0m loss \u001B[38;5;241m=\u001B[39m training_metrics\u001B[38;5;241m.\u001B[39mloss \u001B[38;5;241m*\u001B[39m minibatch_size \u001B[38;5;241m/\u001B[39m \u001B[38;5;28mself\u001B[39m\u001B[38;5;241m.\u001B[39mbatch_size\n",
      "File \u001B[0;32m~/miniconda3/envs/sofa/lib/python3.9/site-packages/imitation/algorithms/bc.py:129\u001B[0m, in \u001B[0;36mBehaviorCloningLossCalculator.__call__\u001B[0;34m(self, policy, obs, acts)\u001B[0m\n\u001B[1;32m    126\u001B[0m acts \u001B[38;5;241m=\u001B[39m util\u001B[38;5;241m.\u001B[39msafe_to_tensor(acts)\n\u001B[1;32m    127\u001B[0m \u001B[38;5;66;03m# policy.evaluate_actions's type signatures are incorrect.\u001B[39;00m\n\u001B[1;32m    128\u001B[0m \u001B[38;5;66;03m# See https://github.com/DLR-RM/stable-baselines3/issues/1679\u001B[39;00m\n\u001B[0;32m--> 129\u001B[0m (_, log_prob, entropy) \u001B[38;5;241m=\u001B[39m \u001B[43mpolicy\u001B[49m\u001B[38;5;241;43m.\u001B[39;49m\u001B[43mevaluate_actions\u001B[49m\u001B[43m(\u001B[49m\n\u001B[1;32m    130\u001B[0m \u001B[43m    \u001B[49m\u001B[43mtensor_obs\u001B[49m\u001B[43m,\u001B[49m\u001B[43m  \u001B[49m\u001B[38;5;66;43;03m# type: ignore[arg-type]\u001B[39;49;00m\n\u001B[1;32m    131\u001B[0m \u001B[43m    \u001B[49m\u001B[43macts\u001B[49m\u001B[43m,\u001B[49m\n\u001B[1;32m    132\u001B[0m \u001B[43m\u001B[49m\u001B[43m)\u001B[49m\n\u001B[1;32m    133\u001B[0m prob_true_act \u001B[38;5;241m=\u001B[39m th\u001B[38;5;241m.\u001B[39mexp(log_prob)\u001B[38;5;241m.\u001B[39mmean()\n\u001B[1;32m    134\u001B[0m log_prob \u001B[38;5;241m=\u001B[39m log_prob\u001B[38;5;241m.\u001B[39mmean()\n",
      "File \u001B[0;32m~/miniconda3/envs/sofa/lib/python3.9/site-packages/stable_baselines3/common/policies.py:736\u001B[0m, in \u001B[0;36mActorCriticPolicy.evaluate_actions\u001B[0;34m(self, obs, actions)\u001B[0m\n\u001B[1;32m    734\u001B[0m     latent_vf \u001B[38;5;241m=\u001B[39m \u001B[38;5;28mself\u001B[39m\u001B[38;5;241m.\u001B[39mmlp_extractor\u001B[38;5;241m.\u001B[39mforward_critic(vf_features)\n\u001B[1;32m    735\u001B[0m distribution \u001B[38;5;241m=\u001B[39m \u001B[38;5;28mself\u001B[39m\u001B[38;5;241m.\u001B[39m_get_action_dist_from_latent(latent_pi)\n\u001B[0;32m--> 736\u001B[0m log_prob \u001B[38;5;241m=\u001B[39m \u001B[43mdistribution\u001B[49m\u001B[38;5;241;43m.\u001B[39;49m\u001B[43mlog_prob\u001B[49m\u001B[43m(\u001B[49m\u001B[43mactions\u001B[49m\u001B[43m)\u001B[49m\n\u001B[1;32m    737\u001B[0m values \u001B[38;5;241m=\u001B[39m \u001B[38;5;28mself\u001B[39m\u001B[38;5;241m.\u001B[39mvalue_net(latent_vf)\n\u001B[1;32m    738\u001B[0m entropy \u001B[38;5;241m=\u001B[39m distribution\u001B[38;5;241m.\u001B[39mentropy()\n",
      "File \u001B[0;32m~/miniconda3/envs/sofa/lib/python3.9/site-packages/stable_baselines3/common/distributions.py:175\u001B[0m, in \u001B[0;36mDiagGaussianDistribution.log_prob\u001B[0;34m(self, actions)\u001B[0m\n\u001B[1;32m    167\u001B[0m \u001B[38;5;28;01mdef\u001B[39;00m \u001B[38;5;21mlog_prob\u001B[39m(\u001B[38;5;28mself\u001B[39m, actions: th\u001B[38;5;241m.\u001B[39mTensor) \u001B[38;5;241m-\u001B[39m\u001B[38;5;241m>\u001B[39m th\u001B[38;5;241m.\u001B[39mTensor:\n\u001B[1;32m    168\u001B[0m \u001B[38;5;250m    \u001B[39m\u001B[38;5;124;03m\"\"\"\u001B[39;00m\n\u001B[1;32m    169\u001B[0m \u001B[38;5;124;03m    Get the log probabilities of actions according to the distribution.\u001B[39;00m\n\u001B[1;32m    170\u001B[0m \u001B[38;5;124;03m    Note that you must first call the ``proba_distribution()`` method.\u001B[39;00m\n\u001B[0;32m   (...)\u001B[0m\n\u001B[1;32m    173\u001B[0m \u001B[38;5;124;03m    :return:\u001B[39;00m\n\u001B[1;32m    174\u001B[0m \u001B[38;5;124;03m    \"\"\"\u001B[39;00m\n\u001B[0;32m--> 175\u001B[0m     log_prob \u001B[38;5;241m=\u001B[39m \u001B[38;5;28;43mself\u001B[39;49m\u001B[38;5;241;43m.\u001B[39;49m\u001B[43mdistribution\u001B[49m\u001B[38;5;241;43m.\u001B[39;49m\u001B[43mlog_prob\u001B[49m\u001B[43m(\u001B[49m\u001B[43mactions\u001B[49m\u001B[43m)\u001B[49m\n\u001B[1;32m    176\u001B[0m     \u001B[38;5;28;01mreturn\u001B[39;00m sum_independent_dims(log_prob)\n",
      "File \u001B[0;32m~/miniconda3/envs/sofa/lib/python3.9/site-packages/torch/distributions/normal.py:86\u001B[0m, in \u001B[0;36mNormal.log_prob\u001B[0;34m(self, value)\u001B[0m\n\u001B[1;32m     81\u001B[0m var \u001B[38;5;241m=\u001B[39m \u001B[38;5;28mself\u001B[39m\u001B[38;5;241m.\u001B[39mscale\u001B[38;5;241m*\u001B[39m\u001B[38;5;241m*\u001B[39m\u001B[38;5;241m2\u001B[39m\n\u001B[1;32m     82\u001B[0m log_scale \u001B[38;5;241m=\u001B[39m (\n\u001B[1;32m     83\u001B[0m     math\u001B[38;5;241m.\u001B[39mlog(\u001B[38;5;28mself\u001B[39m\u001B[38;5;241m.\u001B[39mscale) \u001B[38;5;28;01mif\u001B[39;00m \u001B[38;5;28misinstance\u001B[39m(\u001B[38;5;28mself\u001B[39m\u001B[38;5;241m.\u001B[39mscale, Real) \u001B[38;5;28;01melse\u001B[39;00m \u001B[38;5;28mself\u001B[39m\u001B[38;5;241m.\u001B[39mscale\u001B[38;5;241m.\u001B[39mlog()\n\u001B[1;32m     84\u001B[0m )\n\u001B[1;32m     85\u001B[0m \u001B[38;5;28;01mreturn\u001B[39;00m (\n\u001B[0;32m---> 86\u001B[0m     \u001B[38;5;241m-\u001B[39m((\u001B[43mvalue\u001B[49m\u001B[43m \u001B[49m\u001B[38;5;241;43m-\u001B[39;49m\u001B[43m \u001B[49m\u001B[38;5;28;43mself\u001B[39;49m\u001B[38;5;241;43m.\u001B[39;49m\u001B[43mloc\u001B[49m) \u001B[38;5;241m*\u001B[39m\u001B[38;5;241m*\u001B[39m \u001B[38;5;241m2\u001B[39m) \u001B[38;5;241m/\u001B[39m (\u001B[38;5;241m2\u001B[39m \u001B[38;5;241m*\u001B[39m var)\n\u001B[1;32m     87\u001B[0m     \u001B[38;5;241m-\u001B[39m log_scale\n\u001B[1;32m     88\u001B[0m     \u001B[38;5;241m-\u001B[39m math\u001B[38;5;241m.\u001B[39mlog(math\u001B[38;5;241m.\u001B[39msqrt(\u001B[38;5;241m2\u001B[39m \u001B[38;5;241m*\u001B[39m math\u001B[38;5;241m.\u001B[39mpi))\n\u001B[1;32m     89\u001B[0m )\n",
      "\u001B[0;31mRuntimeError\u001B[0m: Expected all tensors to be on the same device, but found at least two devices, cuda:0 and cpu!"
     ]
    }
   ],
   "source": [
    "bc_trainer.train(n_epochs=1)"
   ],
   "metadata": {
    "collapsed": false,
    "ExecuteTime": {
     "end_time": "2024-01-11T15:10:02.226082170Z",
     "start_time": "2024-01-11T15:10:01.673338481Z"
    }
   },
   "id": "b303a8cd39f8bbe7"
  },
  {
   "cell_type": "code",
   "execution_count": 13,
   "outputs": [
    {
     "name": "stderr",
     "output_type": "stream",
     "text": [
      "/home/erik/miniconda3/envs/sofa/lib/python3.9/site-packages/stable_baselines3/common/evaluation.py:67: UserWarning: Evaluation environment is not wrapped with a ``Monitor`` wrapper. This may result in reporting modified episode lengths and rewards, if other wrappers happen to modify these. Consider wrapping environment first with ``Monitor`` wrapper.\n",
      "  warnings.warn(\n"
     ]
    },
    {
     "name": "stdout",
     "output_type": "stream",
     "text": [
      "[INFO]    [SofaPython3] Initializing with python version 3.9.18 (main, Sep 11 2023, 13:41:44) \n",
      "[GCC 11.2.0]\n",
      "[INFO]    [SofaPython3] Shared library name is 'libpython3.9m.so'\n",
      "[INFO]    [SofaPython3] Added '/home/erik/sofa/build/install/plugins/SofaPython3/lib/python3/site-packages' to sys.path\n",
      "[INFO]    [PluginManager] Loaded plugin: /home/erik/sofa/build/install/plugins/SofaPython3/lib/libSofaPython3.so\n",
      "[INFO]    [PluginManager] Loaded plugin: /home/erik/sofa/build/install/lib/libSofa.Component.Mapping.Linear.so\n",
      "[INFO]    [PluginManager] Loaded plugin: /home/erik/sofa/build/install/lib/libSofa.Component.Topology.Mapping.so\n",
      "[INFO]    [PluginManager] Loaded plugin: /home/erik/sofa/build/install/lib/libSofa.Component.Constraint.Lagrangian.Model.so\n",
      "[INFO]    [PluginManager] Loaded plugin: /home/erik/sofa/build/install/lib/libSofa.Component.Engine.Select.so\n",
      "[INFO]    [PluginManager] Loaded plugin: /home/erik/sofa/build/install/lib/libSofa.Component.Constraint.Lagrangian.Correction.so\n",
      "[INFO]    [PluginManager] Loaded plugin: /home/erik/sofa/build/install/lib/libSofa.Component.Topology.Container.Dynamic.so\n",
      "[INFO]    [PluginManager] Loaded plugin: /home/erik/sofa/build/install/lib/libSofa.Component.Mapping.NonLinear.so\n",
      "[INFO]    [PluginManager] Loaded plugin: /home/erik/sofa/build/install/lib/libSofa.Component.Collision.Geometry.so\n",
      "[INFO]    [PluginManager] Loaded plugin: /home/erik/sofa/build/install/lib/libSofa.Component.Visual.so\n",
      "[INFO]    [PluginManager] Loaded plugin: /home/erik/sofa/build/install/lib/libSofa.Component.ODESolver.Forward.so\n",
      "[INFO]    [PluginManager] Loaded plugin: /home/erik/sofa/build/install/lib/libSofa.Component.LinearSolver.Iterative.so\n",
      "[INFO]    [PluginManager] Loaded plugin: /home/erik/sofa/build/install/lib/libSofa.Component.Mass.so\n",
      "[INFO]    [PluginManager] Loaded plugin: /home/erik/sofa/build/install/lib/libSofa.Component.Constraint.Lagrangian.Solver.so\n",
      "[INFO]    [PluginManager] Loaded plugin: /home/erik/sofa/build/install/lib/libSofa.Component.SolidMechanics.Spring.so\n",
      "[INFO]    [PluginManager] Loaded plugin: /home/erik/sofa/build/install/lib/libSofa.Component.Setting.so\n",
      "[INFO]    [PluginManager] Loaded plugin: /home/erik/sofa/build/install/lib/libSofa.Component.ODESolver.Backward.so\n",
      "[INFO]    [PluginManager] Loaded plugin: /home/erik/sofa/build/install/lib/libSofa.Component.IO.Mesh.so\n",
      "[INFO]    [PluginManager] Loaded plugin: /home/erik/sofa/build/install/lib/libSofa.GL.Component.Shader.so\n",
      "[INFO]    [PluginManager] Loaded plugin: /home/erik/sofa/build/install/lib/libSofa.Component.SolidMechanics.FEM.Elastic.so\n",
      "[INFO]    [PluginManager] Loaded plugin: /home/erik/sofa/build/install/lib/libSofa.Component.Topology.Container.Constant.so\n",
      "[INFO]    [PluginManager] Loaded plugin: /home/erik/sofa/build/install/lib/libSofa.GL.Component.Rendering3D.so\n",
      "[INFO]    [PluginManager] Loaded plugin: /home/erik/sofa/build/install/lib/libSofa.Component.Topology.Container.Grid.so\n",
      "[INFO]    [PluginManager] Loaded plugin: /home/erik/sofa/build/install/lib/libSofa.Component.Collision.Detection.Intersection.so\n",
      "[INFO]    [PluginManager] Loaded plugin: /home/erik/sofa/build/install/lib/libSofa.Component.Constraint.Projective.so\n",
      "[INFO]    [PluginManager] Loaded plugin: /home/erik/sofa/build/install/lib/libSofa.Component.LinearSolver.Direct.so\n",
      "[INFO]    [PluginManager] Loaded plugin: /home/erik/sofa/build/install/plugins/ArticulatedSystemPlugin/lib/libArticulatedSystemPlugin.so\n",
      "[INFO]    [PluginManager] Loaded plugin: /home/erik/sofa/build/install/lib/libSofa.Component.AnimationLoop.so\n",
      "[INFO]    [PluginManager] Loaded plugin: /home/erik/sofa/build/install/lib/libSofa.Component.Collision.Response.Contact.so\n",
      "[INFO]    [PluginManager] Loaded plugin: /home/erik/sofa/build/install/lib/libSofa.Component.Collision.Detection.Algorithm.so\n",
      "[INFO]    [PluginManager] Loaded plugin: /home/erik/sofa/build/install/lib/libSofa.Component.StateContainer.so\n",
      "[INFO]    [PluginManager] Loaded plugin: /home/erik/sofa/build/install/lib/libSofa.Component.MechanicalLoad.so\n",
      "[INFO]    [PluginManager] Loaded plugin: /home/erik/sofa/build/install/lib/libSofa.Component.SceneUtility.so\n",
      "[WARNING] [InteractiveCamera(camera)] Too many missing parameters ; taking default ...\n",
      "[WARNING] [MechanicalObject(unnamed)] Could not read value for data field showColor: 1.0 0.0 1.0 \n",
      "[WARNING] [InteractiveCamera(camera)] Too many missing parameters ; taking default ...\n",
      "[WARNING] [UniformMass(UniformMass)] totalMass value overriding the value of the attribute vertexMass. \n",
      "vertexMass = totalMass / nb_dofs. \n",
      "To remove this warning you need to set either totalMass or vertexMass data field, but not both.\n",
      "[WARNING] [UncoupledConstraintCorrection(UncoupledConstraintCorrection)] Using 1e-10 as initial compliance\n"
     ]
    },
    {
     "name": "stderr",
     "output_type": "stream",
     "text": [
      "[ERROR]   [FastTetrahedralCorotationalForceField(FastTetrahedralCorotationalForceField)] TopologyData: edgeInfo already has a TopologyDataHandler. createTopologyHandler should only be called once at init of the TopologyData.\n",
      "[ERROR]   [FastTetrahedralCorotationalForceField(FastTetrahedralCorotationalForceField)] TopologyData: pointInfo already has a TopologyDataHandler. createTopologyHandler should only be called once at init of the TopologyData.\n",
      "[ERROR]   [FastTetrahedralCorotationalForceField(FastTetrahedralCorotationalForceField)] TopologyData: tetrahedronInfo already has a TopologyDataHandler. createTopologyHandler should only be called once at init of the TopologyData.\n",
      "[ERROR]   [UniformMass(UniformMass)] TopologyData: indices already has a TopologyDataHandler. createTopologyHandler should only be called once at init of the TopologyData.\n",
      "[ERROR]   [FixedConstraint(FixedConstraint)] TopologyData: indices already has a TopologyDataHandler. createTopologyHandler should only be called once at init of the TopologyData.\n"
     ]
    },
    {
     "name": "stdout",
     "output_type": "stream",
     "text": [
      "[WARNING] [FastTetrahedralCorotationalForceField(FastTetrahedralCorotationalForceField)] buildStiffnessMatrix not implemented: for compatibility reason, the deprecated API (addKToMatrix) will be used. This compatibility will disapear in the future, and will cause issues in simulations. Please update the code of FastTetrahedralCorotationalForceField to ensure right behavior: the function addKToMatrix has been replaced by buildStiffnessMatrix\n",
      "[WARNING] [FastTetrahedralCorotationalForceField(FastTetrahedralCorotationalForceField)] buildDampingMatrix not implemented: for compatibility reason, the deprecated API (addBToMatrix) will be used. This compatibility will disapear in the future, and will cause issues in simulations. Please update the code of FastTetrahedralCorotationalForceField to ensure right behavior: the function addBToMatrix has been replaced by buildDampingMatrix\n",
      "[WARNING] [UniformVelocityDampingForceField(UniformVelocityDampingForceField)] buildStiffnessMatrix not implemented: for compatibility reason, the deprecated API (addKToMatrix) will be used. This compatibility will disapear in the future, and will cause issues in simulations. Please update the code of UniformVelocityDampingForceField to ensure right behavior: the function addKToMatrix has been replaced by buildStiffnessMatrix\n",
      "[WARNING] [BeamFEMForceField(BeamFEMForceField)] buildDampingMatrix not implemented: for compatibility reason, the deprecated API (addBToMatrix) will be used. This compatibility will disapear in the future, and will cause issues in simulations. Please update the code of BeamFEMForceField to ensure right behavior: the function addBToMatrix has been replaced by buildDampingMatrix\n",
      "Reward after training: 0.0\n"
     ]
    }
   ],
   "source": [
    "reward_after_training, _ = evaluate_policy(bc_trainer.policy, env, 10)\n",
    "print(f\"Reward after training: {reward_after_training}\")"
   ],
   "metadata": {
    "collapsed": false,
    "ExecuteTime": {
     "end_time": "2024-01-09T14:17:06.019696440Z",
     "start_time": "2024-01-09T14:16:25.943978247Z"
    }
   },
   "id": "1cd3d9ec6935686d"
  },
  {
   "cell_type": "code",
   "execution_count": null,
   "outputs": [],
   "source": [],
   "metadata": {
    "collapsed": false
   },
   "id": "6c40ae8a34b82b9f"
  }
 ],
 "metadata": {
  "kernelspec": {
   "display_name": "Python 3",
   "language": "python",
   "name": "python3"
  },
  "language_info": {
   "codemirror_mode": {
    "name": "ipython",
    "version": 2
   },
   "file_extension": ".py",
   "mimetype": "text/x-python",
   "name": "python",
   "nbconvert_exporter": "python",
   "pygments_lexer": "ipython2",
   "version": "2.7.6"
  }
 },
 "nbformat": 4,
 "nbformat_minor": 5
}
