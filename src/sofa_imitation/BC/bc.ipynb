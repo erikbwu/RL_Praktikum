{
 "cells": [
  {
   "cell_type": "code",
   "execution_count": 7,
   "id": "initial_id",
   "metadata": {
    "collapsed": true,
    "ExecuteTime": {
     "end_time": "2024-01-24T21:04:36.909142458Z",
     "start_time": "2024-01-24T21:04:36.904222683Z"
    }
   },
   "outputs": [
    {
     "name": "stdout",
     "output_type": "stream",
     "text": [
      "env: SOFA_ROOT=/home/erik/sofa/build/install\n",
      "env: SOFAPYTHON3_ROOT=/home/erik/sofa/build/install/install/plugins/SofaPython3\n"
     ]
    }
   ],
   "source": [
    "%env SOFA_ROOT=/home/erik/sofa/build/install\n",
    "%env SOFAPYTHON3_ROOT=/home/erik/sofa/build/install/install/plugins/SofaPython3"
   ]
  },
  {
   "cell_type": "code",
   "execution_count": 8,
   "outputs": [],
   "source": [
    "import numpy as np\n",
    "from imitation.algorithms import bc\n",
    "from imitation.data.types import Trajectory\n",
    "from imitation.data.wrappers import RolloutInfoWrapper\n",
    "from imitation.data.rollout import flatten_trajectories\n",
    "from sofa_env.base import RenderMode\n",
    "from sofa_env.scenes.ligating_loop.ligating_loop_env import LigatingLoopEnv, ObservationType, ActionType\n",
    "from gymnasium.wrappers import TimeLimit\n",
    "from stable_baselines3.common.evaluation import evaluate_policy\n",
    "from stable_baselines3.common.vec_env import DummyVecEnv"
   ],
   "metadata": {
    "collapsed": false,
    "ExecuteTime": {
     "end_time": "2024-01-24T21:04:36.911869165Z",
     "start_time": "2024-01-24T21:04:36.909595986Z"
    }
   },
   "id": "b2308a3b12218c03"
  },
  {
   "cell_type": "code",
   "execution_count": 9,
   "outputs": [],
   "source": [
    "def _make_env():\n",
    "    \"\"\"Helper function to create a single environment. Put any logic here, but make sure to return a RolloutInfoWrapper.\"\"\"\n",
    "    _env = LigatingLoopEnv(\n",
    "        observation_type=ObservationType.RGBD,\n",
    "        render_mode=RenderMode.HUMAN,\n",
    "        action_type=ActionType.CONTINUOUS,\n",
    "        image_shape=(256, 256),\n",
    "        frame_skip=1,\n",
    "        time_step=0.1,\n",
    "        settle_steps=50,\n",
    "    )\n",
    "    _env = TimeLimit(_env, max_episode_steps=500)\n",
    "    _env = RolloutInfoWrapper(_env)\n",
    "    return _env\n",
    "\n",
    "\n",
    "def _npz_to_traj(n_traj: 500):\n",
    "    ret = []\n",
    "    for i in range(n_traj):\n",
    "        path = f'/home/erik/sofa_env_demonstrations/ligating_loop/LigatingLoopEnv_{i}.npz'\n",
    "        npz_data = np.load(path)\n",
    "        print(np.append(npz_data['rgb'], npz_data['depth'][..., np.newaxis], 3).shape)\n",
    "        ret.append(Trajectory(np.append(npz_data['rgb'], npz_data['depth'][..., np.newaxis], 3),\n",
    "                              npz_data['action'], None, True))\n",
    "\n",
    "    return ret"
   ],
   "metadata": {
    "collapsed": false,
    "ExecuteTime": {
     "end_time": "2024-01-24T21:04:36.976985225Z",
     "start_time": "2024-01-24T21:04:36.914619013Z"
    }
   },
   "id": "bc7ad7a7dca8bd4e"
  },
  {
   "cell_type": "code",
   "execution_count": 10,
   "outputs": [
    {
     "name": "stdout",
     "output_type": "stream",
     "text": [
      "(496, 256, 256, 4)\n"
     ]
    }
   ],
   "source": [
    "env = DummyVecEnv([_make_env for _ in range(1)])\n",
    "traj = _npz_to_traj(1)  "
   ],
   "metadata": {
    "collapsed": false,
    "ExecuteTime": {
     "end_time": "2024-01-24T21:04:38.589635048Z",
     "start_time": "2024-01-24T21:04:36.962280680Z"
    }
   },
   "id": "fd61d471862228dc"
  },
  {
   "cell_type": "code",
   "outputs": [
    {
     "name": "stdout",
     "output_type": "stream",
     "text": [
      "(495, 5) (495, 256, 256, 4)\n"
     ]
    }
   ],
   "source": [
    "from stable_baselines3.common.policies import ActorCriticPolicy\n",
    "\n",
    "transitions = flatten_trajectories(traj)\n",
    "print(transitions.acts.shape, transitions.obs.shape)\n",
    "rng = np.random.default_rng()\n",
    "policy = ActorCriticPolicy(env.observation_space, env.action_space, lambda epoch: 1e-3 * 0.99 ** epoch )\n",
    "\n"
   ],
   "metadata": {
    "collapsed": false,
    "ExecuteTime": {
     "end_time": "2024-01-24T21:04:39.667957366Z",
     "start_time": "2024-01-24T21:04:38.591125774Z"
    }
   },
   "id": "9ff2b18550cce1f2",
   "execution_count": 11
  },
  {
   "cell_type": "code",
   "execution_count": 12,
   "outputs": [],
   "source": [
    "bc_trainer = bc.BC(\n",
    "    observation_space=env.observation_space,\n",
    "    action_space=env.action_space,\n",
    "    demonstrations=transitions,\n",
    "    policy=policy,\n",
    "    rng=rng,\n",
    "    device='cuda'\n",
    ")"
   ],
   "metadata": {
    "collapsed": false,
    "ExecuteTime": {
     "end_time": "2024-01-24T21:04:39.716230142Z",
     "start_time": "2024-01-24T21:04:39.668499366Z"
    }
   },
   "id": "8a09f356597af300"
  },
  {
   "cell_type": "code",
   "execution_count": 13,
   "outputs": [],
   "source": [
    "#reward_before_training, _ = evaluate_policy(bc_trainer.policy, env, 10)\n",
    "#print(f\"Reward before training: {reward_before_training}\")"
   ],
   "metadata": {
    "collapsed": false,
    "ExecuteTime": {
     "end_time": "2024-01-24T21:04:39.718921269Z",
     "start_time": "2024-01-24T21:04:39.717113948Z"
    }
   },
   "id": "8aaf8ad1c2537e38"
  },
  {
   "cell_type": "code",
   "execution_count": 14,
   "outputs": [
    {
     "name": "stderr",
     "output_type": "stream",
     "text": [
      "0batch [00:00, ?batch/s]"
     ]
    },
    {
     "name": "stdout",
     "output_type": "stream",
     "text": [
      "--------------------------------\n",
      "| batch_size        | 32       |\n",
      "| bc/               |          |\n",
      "|    batch          | 0        |\n",
      "|    ent_loss       | -0.00709 |\n",
      "|    entropy        | 7.09     |\n",
      "|    epoch          | 0        |\n",
      "|    l2_loss        | 0        |\n",
      "|    l2_norm        | 257      |\n",
      "|    loss           | 4.87     |\n",
      "|    neglogp        | 4.88     |\n",
      "|    prob_true_act  | 0.00788  |\n",
      "|    samples_so_far | 32       |\n",
      "--------------------------------\n"
     ]
    },
    {
     "name": "stderr",
     "output_type": "stream",
     "text": [
      "11batch [00:00, 35.23batch/s]\n",
      "15batch [00:00, 33.47batch/s]\u001B[A\n"
     ]
    }
   ],
   "source": [
    "bc_trainer.train(n_epochs=1)"
   ],
   "metadata": {
    "collapsed": false,
    "ExecuteTime": {
     "end_time": "2024-01-24T21:04:40.214687822Z",
     "start_time": "2024-01-24T21:04:39.719272315Z"
    }
   },
   "id": "b303a8cd39f8bbe7"
  },
  {
   "cell_type": "code",
   "execution_count": 15,
   "outputs": [
    {
     "name": "stderr",
     "output_type": "stream",
     "text": [
      "/home/erik/miniconda3/envs/sofa/lib/python3.9/site-packages/stable_baselines3/common/evaluation.py:67: UserWarning: Evaluation environment is not wrapped with a ``Monitor`` wrapper. This may result in reporting modified episode lengths and rewards, if other wrappers happen to modify these. Consider wrapping environment first with ``Monitor`` wrapper.\n",
      "  warnings.warn(\n"
     ]
    },
    {
     "name": "stdout",
     "output_type": "stream",
     "text": [
      "[INFO]    [PluginManager] Loaded plugin: /home/erik/sofa/build/install/lib/libSofa.Component.Visual.so\n",
      "[INFO]    [PluginManager] Loaded plugin: /home/erik/sofa/build/install/lib/libSofa.Component.Constraint.Projective.so\n",
      "[INFO]    [PluginManager] Loaded plugin: /home/erik/sofa/build/install/lib/libSofa.Component.Collision.Detection.Algorithm.so\n",
      "[INFO]    [PluginManager] Loaded plugin: /home/erik/sofa/build/install/lib/libSofa.Component.ODESolver.Backward.so\n",
      "[INFO]    [PluginManager] Loaded plugin: /home/erik/sofa/build/install/lib/libSofa.Component.Mass.so\n",
      "[INFO]    [PluginManager] Loaded plugin: /home/erik/sofa/build/install/lib/libSofa.Component.Constraint.Lagrangian.Model.so\n",
      "[INFO]    [PluginManager] Loaded plugin: /home/erik/sofa/build/install/lib/libSofa.Component.IO.Mesh.so\n",
      "[INFO]    [PluginManager] Loaded plugin: /home/erik/sofa/build/install/lib/libSofa.Component.Topology.Mapping.so\n",
      "[INFO]    [PluginManager] Loaded plugin: /home/erik/sofa/build/install/lib/libSofa.Component.Topology.Container.Dynamic.so\n",
      "[INFO]    [PluginManager] Loaded plugin: /home/erik/sofa/build/install/lib/libSofa.Component.SolidMechanics.Spring.so\n",
      "[INFO]    [PluginManager] Loaded plugin: /home/erik/sofa/build/install/lib/libSofa.Component.Engine.Select.so\n",
      "[INFO]    [PluginManager] Loaded plugin: /home/erik/sofa/build/install/lib/libSofa.Component.Constraint.Lagrangian.Correction.so\n",
      "[INFO]    [PluginManager] Loaded plugin: /home/erik/sofa/build/install/lib/libSofa.Component.Mapping.Linear.so\n",
      "[INFO]    [SofaPython3] Initializing with python version 3.9.18 (main, Sep 11 2023, 13:41:44) \n",
      "[GCC 11.2.0]\n",
      "[INFO]    [SofaPython3] Shared library name is 'libpython3.9m.so'\n",
      "[INFO]    [SofaPython3] Added '/home/erik/sofa/build/install/plugins/SofaPython3/lib/python3/site-packages' to sys.path\n",
      "[INFO]    [PluginManager] Loaded plugin: /home/erik/sofa/build/install/plugins/SofaPython3/lib/libSofaPython3.so\n",
      "[INFO]    [PluginManager] Loaded plugin: /home/erik/sofa/build/install/lib/libSofa.GL.Component.Rendering3D.so\n",
      "[INFO]    [PluginManager] Loaded plugin: /home/erik/sofa/build/install/lib/libSofa.Component.LinearSolver.Direct.so\n",
      "[INFO]    [PluginManager] Loaded plugin: /home/erik/sofa/build/install/lib/libSofa.Component.ODESolver.Forward.so\n",
      "[INFO]    [PluginManager] Loaded plugin: /home/erik/sofa/build/install/lib/libSofa.Component.AnimationLoop.so\n",
      "[INFO]    [PluginManager] Loaded plugin: /home/erik/sofa/build/install/lib/libSofa.Component.Mapping.NonLinear.so\n",
      "[INFO]    [PluginManager] Loaded plugin: /home/erik/sofa/build/install/lib/libSofa.Component.MechanicalLoad.so\n",
      "[INFO]    [PluginManager] Loaded plugin: /home/erik/sofa/build/install/plugins/ArticulatedSystemPlugin/lib/libArticulatedSystemPlugin.so\n",
      "[INFO]    [PluginManager] Loaded plugin: /home/erik/sofa/build/install/lib/libSofa.Component.LinearSolver.Iterative.so\n",
      "[INFO]    [PluginManager] Loaded plugin: /home/erik/sofa/build/install/lib/libSofa.Component.Topology.Container.Constant.so\n",
      "[INFO]    [PluginManager] Loaded plugin: /home/erik/sofa/build/install/lib/libSofa.Component.Collision.Detection.Intersection.so\n",
      "[INFO]    [PluginManager] Loaded plugin: /home/erik/sofa/build/install/lib/libSofa.Component.SolidMechanics.FEM.Elastic.so\n",
      "[INFO]    [PluginManager] Loaded plugin: /home/erik/sofa/build/install/lib/libSofa.Component.StateContainer.so\n",
      "[INFO]    [PluginManager] Loaded plugin: /home/erik/sofa/build/install/lib/libSofa.Component.SceneUtility.so\n",
      "[INFO]    [PluginManager] Loaded plugin: /home/erik/sofa/build/install/lib/libSofa.Component.Topology.Container.Grid.so\n",
      "[INFO]    [PluginManager] Loaded plugin: /home/erik/sofa/build/install/lib/libSofa.Component.Setting.so\n",
      "[INFO]    [PluginManager] Loaded plugin: /home/erik/sofa/build/install/lib/libSofa.GL.Component.Shader.so\n",
      "[INFO]    [PluginManager] Loaded plugin: /home/erik/sofa/build/install/lib/libSofa.Component.Collision.Geometry.so\n",
      "[INFO]    [PluginManager] Loaded plugin: /home/erik/sofa/build/install/lib/libSofa.Component.Constraint.Lagrangian.Solver.so\n",
      "[INFO]    [PluginManager] Loaded plugin: /home/erik/sofa/build/install/lib/libSofa.Component.Collision.Response.Contact.so\n",
      "[WARNING] [InteractiveCamera(camera)] Too many missing parameters ; taking default ...\n",
      "[WARNING] [MechanicalObject(unnamed)] Could not read value for data field showColor: 1.0 0.0 1.0 \n",
      "[WARNING] [InteractiveCamera(camera)] Too many missing parameters ; taking default ...\n",
      "[WARNING] [UniformMass(UniformMass)] totalMass value overriding the value of the attribute vertexMass. \n",
      "vertexMass = totalMass / nb_dofs. \n",
      "To remove this warning you need to set either totalMass or vertexMass data field, but not both.\n",
      "[WARNING] [UncoupledConstraintCorrection(UncoupledConstraintCorrection)] Using 1e-10 as initial compliance\n"
     ]
    },
    {
     "name": "stderr",
     "output_type": "stream",
     "text": [
      "[ERROR]   [FastTetrahedralCorotationalForceField(FastTetrahedralCorotationalForceField)] TopologyData: edgeInfo already has a TopologyDataHandler. createTopologyHandler should only be called once at init of the TopologyData.\n",
      "[ERROR]   [FastTetrahedralCorotationalForceField(FastTetrahedralCorotationalForceField)] TopologyData: pointInfo already has a TopologyDataHandler. createTopologyHandler should only be called once at init of the TopologyData.\n",
      "[ERROR]   [FastTetrahedralCorotationalForceField(FastTetrahedralCorotationalForceField)] TopologyData: tetrahedronInfo already has a TopologyDataHandler. createTopologyHandler should only be called once at init of the TopologyData.\n",
      "[ERROR]   [UniformMass(UniformMass)] TopologyData: indices already has a TopologyDataHandler. createTopologyHandler should only be called once at init of the TopologyData.\n",
      "[ERROR]   [FixedConstraint(FixedConstraint)] TopologyData: indices already has a TopologyDataHandler. createTopologyHandler should only be called once at init of the TopologyData.\n"
     ]
    },
    {
     "name": "stdout",
     "output_type": "stream",
     "text": [
      "[WARNING] [FastTetrahedralCorotationalForceField(FastTetrahedralCorotationalForceField)] buildStiffnessMatrix not implemented: for compatibility reason, the deprecated API (addKToMatrix) will be used. This compatibility will disapear in the future, and will cause issues in simulations. Please update the code of FastTetrahedralCorotationalForceField to ensure right behavior: the function addKToMatrix has been replaced by buildStiffnessMatrix\n",
      "[WARNING] [FastTetrahedralCorotationalForceField(FastTetrahedralCorotationalForceField)] buildDampingMatrix not implemented: for compatibility reason, the deprecated API (addBToMatrix) will be used. This compatibility will disapear in the future, and will cause issues in simulations. Please update the code of FastTetrahedralCorotationalForceField to ensure right behavior: the function addBToMatrix has been replaced by buildDampingMatrix\n",
      "[WARNING] [UniformVelocityDampingForceField(UniformVelocityDampingForceField)] buildStiffnessMatrix not implemented: for compatibility reason, the deprecated API (addKToMatrix) will be used. This compatibility will disapear in the future, and will cause issues in simulations. Please update the code of UniformVelocityDampingForceField to ensure right behavior: the function addKToMatrix has been replaced by buildStiffnessMatrix\n",
      "[WARNING] [BeamFEMForceField(BeamFEMForceField)] buildDampingMatrix not implemented: for compatibility reason, the deprecated API (addBToMatrix) will be used. This compatibility will disapear in the future, and will cause issues in simulations. Please update the code of BeamFEMForceField to ensure right behavior: the function addBToMatrix has been replaced by buildDampingMatrix\n"
     ]
    },
    {
     "ename": "IndexError",
     "evalue": "list assignment index out of range",
     "output_type": "error",
     "traceback": [
      "\u001B[0;31m---------------------------------------------------------------------------\u001B[0m",
      "\u001B[0;31mIndexError\u001B[0m                                Traceback (most recent call last)",
      "Cell \u001B[0;32mIn[15], line 1\u001B[0m\n\u001B[0;32m----> 1\u001B[0m reward_after_training, _ \u001B[38;5;241m=\u001B[39m \u001B[43mevaluate_policy\u001B[49m\u001B[43m(\u001B[49m\u001B[43mbc_trainer\u001B[49m\u001B[38;5;241;43m.\u001B[39;49m\u001B[43mpolicy\u001B[49m\u001B[43m,\u001B[49m\u001B[43m \u001B[49m\u001B[43menv\u001B[49m\u001B[43m,\u001B[49m\u001B[43m \u001B[49m\u001B[38;5;241;43m10\u001B[39;49m\u001B[43m)\u001B[49m\n\u001B[1;32m      2\u001B[0m \u001B[38;5;28mprint\u001B[39m(\u001B[38;5;124mf\u001B[39m\u001B[38;5;124m\"\u001B[39m\u001B[38;5;124mReward after training: \u001B[39m\u001B[38;5;132;01m{\u001B[39;00mreward_after_training\u001B[38;5;132;01m}\u001B[39;00m\u001B[38;5;124m\"\u001B[39m)\n",
      "File \u001B[0;32m~/miniconda3/envs/sofa/lib/python3.9/site-packages/stable_baselines3/common/evaluation.py:84\u001B[0m, in \u001B[0;36mevaluate_policy\u001B[0;34m(model, env, n_eval_episodes, deterministic, render, callback, reward_threshold, return_episode_rewards, warn)\u001B[0m\n\u001B[1;32m     82\u001B[0m current_rewards \u001B[38;5;241m=\u001B[39m np\u001B[38;5;241m.\u001B[39mzeros(n_envs)\n\u001B[1;32m     83\u001B[0m current_lengths \u001B[38;5;241m=\u001B[39m np\u001B[38;5;241m.\u001B[39mzeros(n_envs, dtype\u001B[38;5;241m=\u001B[39m\u001B[38;5;124m\"\u001B[39m\u001B[38;5;124mint\u001B[39m\u001B[38;5;124m\"\u001B[39m)\n\u001B[0;32m---> 84\u001B[0m observations \u001B[38;5;241m=\u001B[39m \u001B[43menv\u001B[49m\u001B[38;5;241;43m.\u001B[39;49m\u001B[43mreset\u001B[49m\u001B[43m(\u001B[49m\u001B[43m)\u001B[49m\n\u001B[1;32m     85\u001B[0m states \u001B[38;5;241m=\u001B[39m \u001B[38;5;28;01mNone\u001B[39;00m\n\u001B[1;32m     86\u001B[0m episode_starts \u001B[38;5;241m=\u001B[39m np\u001B[38;5;241m.\u001B[39mones((env\u001B[38;5;241m.\u001B[39mnum_envs,), dtype\u001B[38;5;241m=\u001B[39m\u001B[38;5;28mbool\u001B[39m)\n",
      "File \u001B[0;32m~/miniconda3/envs/sofa/lib/python3.9/site-packages/stable_baselines3/common/vec_env/dummy_vec_env.py:79\u001B[0m, in \u001B[0;36mDummyVecEnv.reset\u001B[0;34m(self)\u001B[0m\n\u001B[1;32m     77\u001B[0m     maybe_options \u001B[38;5;241m=\u001B[39m {\u001B[38;5;124m\"\u001B[39m\u001B[38;5;124moptions\u001B[39m\u001B[38;5;124m\"\u001B[39m: \u001B[38;5;28mself\u001B[39m\u001B[38;5;241m.\u001B[39m_options[env_idx]} \u001B[38;5;28;01mif\u001B[39;00m \u001B[38;5;28mself\u001B[39m\u001B[38;5;241m.\u001B[39m_options[env_idx] \u001B[38;5;28;01melse\u001B[39;00m {}\n\u001B[1;32m     78\u001B[0m     obs, \u001B[38;5;28mself\u001B[39m\u001B[38;5;241m.\u001B[39mreset_infos[env_idx] \u001B[38;5;241m=\u001B[39m \u001B[38;5;28mself\u001B[39m\u001B[38;5;241m.\u001B[39menvs[env_idx]\u001B[38;5;241m.\u001B[39mreset(seed\u001B[38;5;241m=\u001B[39m\u001B[38;5;28mself\u001B[39m\u001B[38;5;241m.\u001B[39m_seeds[env_idx], \u001B[38;5;241m*\u001B[39m\u001B[38;5;241m*\u001B[39mmaybe_options)\n\u001B[0;32m---> 79\u001B[0m     \u001B[38;5;28;43mself\u001B[39;49m\u001B[38;5;241;43m.\u001B[39;49m\u001B[43m_save_obs\u001B[49m\u001B[43m(\u001B[49m\u001B[43menv_idx\u001B[49m\u001B[43m,\u001B[49m\u001B[43m \u001B[49m\u001B[43mobs\u001B[49m\u001B[43m)\u001B[49m\n\u001B[1;32m     80\u001B[0m \u001B[38;5;66;03m# Seeds and options are only used once\u001B[39;00m\n\u001B[1;32m     81\u001B[0m \u001B[38;5;28mself\u001B[39m\u001B[38;5;241m.\u001B[39m_reset_seeds()\n",
      "File \u001B[0;32m~/miniconda3/envs/sofa/lib/python3.9/site-packages/stable_baselines3/common/vec_env/dummy_vec_env.py:109\u001B[0m, in \u001B[0;36mDummyVecEnv._save_obs\u001B[0;34m(self, env_idx, obs)\u001B[0m\n\u001B[1;32m    107\u001B[0m \u001B[38;5;28;01mfor\u001B[39;00m key \u001B[38;5;129;01min\u001B[39;00m \u001B[38;5;28mself\u001B[39m\u001B[38;5;241m.\u001B[39mkeys:\n\u001B[1;32m    108\u001B[0m     \u001B[38;5;28;01mif\u001B[39;00m key \u001B[38;5;129;01mis\u001B[39;00m \u001B[38;5;28;01mNone\u001B[39;00m:\n\u001B[0;32m--> 109\u001B[0m         \u001B[38;5;28;43mself\u001B[39;49m\u001B[38;5;241;43m.\u001B[39;49m\u001B[43mbuf_obs\u001B[49m\u001B[43m[\u001B[49m\u001B[43mkey\u001B[49m\u001B[43m]\u001B[49m\u001B[43m[\u001B[49m\u001B[43menv_idx\u001B[49m\u001B[43m]\u001B[49m \u001B[38;5;241m=\u001B[39m obs\n\u001B[1;32m    110\u001B[0m     \u001B[38;5;28;01melse\u001B[39;00m:\n\u001B[1;32m    111\u001B[0m         \u001B[38;5;28mself\u001B[39m\u001B[38;5;241m.\u001B[39mbuf_obs[key][env_idx] \u001B[38;5;241m=\u001B[39m obs[key]\n",
      "\u001B[0;31mIndexError\u001B[0m: list assignment index out of range"
     ]
    }
   ],
   "source": [
    "reward_after_training, _ = evaluate_policy(bc_trainer.policy, env, 10)\n",
    "print(f\"Reward after training: {reward_after_training}\")"
   ],
   "metadata": {
    "collapsed": false,
    "ExecuteTime": {
     "end_time": "2024-01-24T21:04:48.810282076Z",
     "start_time": "2024-01-24T21:04:40.214158603Z"
    }
   },
   "id": "1cd3d9ec6935686d"
  },
  {
   "cell_type": "code",
   "execution_count": null,
   "outputs": [],
   "source": [],
   "metadata": {
    "collapsed": false,
    "ExecuteTime": {
     "start_time": "2024-01-24T21:04:48.811474167Z"
    }
   },
   "id": "6c40ae8a34b82b9f"
  }
 ],
 "metadata": {
  "kernelspec": {
   "display_name": "Python 3",
   "language": "python",
   "name": "python3"
  },
  "language_info": {
   "codemirror_mode": {
    "name": "ipython",
    "version": 2
   },
   "file_extension": ".py",
   "mimetype": "text/x-python",
   "name": "python",
   "nbconvert_exporter": "python",
   "pygments_lexer": "ipython2",
   "version": "2.7.6"
  }
 },
 "nbformat": 4,
 "nbformat_minor": 5
}
